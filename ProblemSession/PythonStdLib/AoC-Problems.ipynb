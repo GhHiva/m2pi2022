{
 "cells": [
  {
   "cell_type": "markdown",
   "metadata": {},
   "source": [
    "# Advent of Code Problems\n",
    "\n",
    "### Key Concepts & Packages\n",
    "\n",
    "The following packages and ideas are part of the python language itself. They are always available and understanding them will make your life much easier. Individually, they help solve simple problems in the most efficient way, allowing you to combine them to solve more complex problems\n",
    "\n",
    "  * [Truthy and Falsy values](https://www.freecodecamp.org/news/truthy-and-falsy-values-in-python/)\n",
    "  * [Indexing](https://towardsdatascience.com/the-basics-of-indexing-and-slicing-python-lists-2d12c90a94cf) and [numpy indexing](https://numpy.org/doc/stable/reference/arrays.indexing.html)\n",
    "  * Regular expressions [re](https://docs.python.org/3/library/re.html)\n",
    "  * Hashes and [Collections](https://docs.python.org/3/library/collections.html)\n",
    "\n",
    "\n",
    "These modules aren't part of the core python language, but they're well written and very widely used.\n",
    "\n",
    "* [Requests](https://docs.python-requests.org/en/master/) HTTP for humans\n",
    "* [Pandas](https://pandas.pydata.org/)\n",
    "* [Numpy](https://numpy.org/)\n",
    "\n",
    "There are **lots** of other python modules available as well. In general you should look for an existing python module before writing something from scratch, it'll save you a lot of work and let you focus on the interesting parts of your problem. [PyPI](https://pypi.org/) is the canonical source for many packages and integrates with the `pip` package manager. When you are looking at a new package, some of the things to consider are\n",
    "\n",
    "  1. Does it do what you need? Does it do it well?\n",
    "  1. Does it have a good support community and active development? Often the associated GitHub issue queue can help you judge this\n",
    "  \n",
    "  \n"
   ]
  },
  {
   "cell_type": "markdown",
   "metadata": {},
   "source": [
    "## Problem 1: Password Checking\n",
    "\n",
    "### Part 1\n",
    "\n",
    " * N.B. This problem is a tweak of [Advent of Code 2020 problem 2](https://adventofcode.com/2020/day/2)\n",
    "You've been given the password file for a group of users and you've been asked to validate the entries. Here are some sample entries\n",
    "\n",
    "```\n",
    "1-9 a: asjuaycbnwo\n",
    "3-7 c: qohnfbyvdvxb\n",
    "5-7 j: abnkjahajjay\n",
    "3-6 p: papvmnnapa\n",
    "1-5 n: nannanuuanyn\n",
    "```\n",
    "\n",
    "The second field with the colon represents a character that we expect to find in the password (the 3rd field). The first field represents the minimum and maximum number of occurrences of that character which are needed to satisfy our policy. For example, the first line says that the password is `asjuaycbnwo` and that we expect to find at least one to at most nine occurrences of the latter `a` in that password. Given those rules we have\n",
    "\n",
    "```\n",
    "1-9 a: asjuaycbnwo   # VALID   2 occurences of \"a\" (1 <= 2 <= 9)\n",
    "3-7 c: qohnfbyvdvxb  # INVALID 0 occurences of \"c\" (0 < 3)\n",
    "5-7 j: abnkhajajjay  # INVALID 3 occurences of \"j\" (3 < 5)\n",
    "3-6 p: papvmnnapa    # VALID   3 occurences of \"p\" (3<= 3 <= 6)\n",
    "1-5 n: nannnnuuanyn  # INVALID 7 occurences of \"n\" (7 > 5)\n",
    "```\n",
    "\n",
    "You are asked to calculate the total number of valid passwords in the file."
   ]
  },
  {
   "cell_type": "markdown",
   "metadata": {},
   "source": [
    "### Part 1 Answer\n",
    "\n",
    "* Ingest the data & split it into lines\n",
    "* Extract password, target character, min and max occurences from each line\n",
    "* Validate the password using these paramters. Use Regular Expressions if you can!"
   ]
  },
  {
   "cell_type": "code",
   "execution_count": 1,
   "metadata": {},
   "outputs": [
    {
     "data": {
      "text/plain": [
       "['15-19 k: kkkkkkkkkkkkzkkkkkkk',\n",
       " '1-11 s: sbssswsqsssssrlss',\n",
       " '8-9 b: pbbbbbbkbz',\n",
       " '4-10 w: wwccwcqwdmbktjrxhw',\n",
       " '1-6 x: jvscgqsnt',\n",
       " '1-7 x: xxxxxxcx',\n",
       " '6-10 s: smssssfskssdwvtcss',\n",
       " '6-12 q: qqqqzqqjqfqdqq',\n",
       " '3-7 d: ddwbzbf',\n",
       " '12-14 s: ssdssssssssmsq']"
      ]
     },
     "execution_count": 1,
     "metadata": {},
     "output_type": "execute_result"
    }
   ],
   "source": [
    "import re\n",
    "import requests\n",
    "\n",
    "try:\n",
    "    r = requests.get('https://m2pi.syzygy.ca/data/day_2.txt')\n",
    "    r.raise_for_status()\n",
    "except Exception as err:\n",
    "    print(f'Unable to retrieve passwords: {err}')\n",
    "\n",
    "lines = r.text.strip().split('\\n')\n",
    "lines[:10]"
   ]
  },
  {
   "cell_type": "code",
   "execution_count": 2,
   "metadata": {},
   "outputs": [
    {
     "name": "stdout",
     "output_type": "stream",
     "text": [
      "655 VALID passwords (345 INVALID)\n"
     ]
    }
   ],
   "source": [
    "pwre = re.compile(\n",
    "    '(?P<chmin>\\d+)-(?P<chmax>\\d+) (?P<ch>[a-z]): (?P<pw>[a-z]+)'\n",
    ")\n",
    "\n",
    "valid_pw = 0\n",
    "for line in lines:\n",
    "    m = pwre.match(line).groupdict()\n",
    "    m['chmin'], m['chmax'] = int(m['chmin']), int(m['chmax'])\n",
    "    occurrences = len(re.findall(m['ch'], m['pw']))\n",
    "    if (m['chmin'] <= occurrences <= m['chmax']):\n",
    "        valid_pw += 1\n",
    "\n",
    "print(f\"{valid_pw} VALID passwords ({len(lines) - valid_pw} INVALID)\")"
   ]
  },
  {
   "cell_type": "markdown",
   "metadata": {},
   "source": [
    "### Part 2\n",
    "\n",
    "Part two of this problem says that the schema was misinterpreted in part 1. Actually, the first token on each line should be interpretated as positions in the password string (indexed from 1!) and that the given character should occur **exactly** once in those positions. Recycling our examples from above\n",
    "\n",
    "```\n",
    "1-9 a: asjuaycbnwo  # VALID \"a\" occurs in position 1\n",
    "3-7 c: qohnfbyvdvxb # INVALID \"c\" does not occur in position 3 or 7\n",
    "5-7 j: abnkhajajjay # VALID \"j\" occurs in position 5\n",
    "3-6 p: papvmnnapa   # VALID \"p\" occurs in position 3\n",
    "1-5 n: nannnnuuanyn # INVALID \"n\" occurs in position 1 and position 5\n",
    "```"
   ]
  },
  {
   "cell_type": "code",
   "execution_count": 3,
   "metadata": {},
   "outputs": [
    {
     "name": "stdout",
     "output_type": "stream",
     "text": [
      "673 VALID passwords (327 INVALID)\n"
     ]
    }
   ],
   "source": [
    "valid_pw = 0\n",
    "for line in lines:\n",
    "    chmin, chmax, ch, pw = pwre.match(line).groups()\n",
    "    chmin, chmax = int(chmin), int(chmax)\n",
    "    if (pw[chmin - 1] == ch) ^ (pw[chmax - 1] == ch):\n",
    "        valid_pw += 1\n",
    "        \n",
    "print(f\"{valid_pw} VALID passwords ({len(lines) - valid_pw} INVALID)\")"
   ]
  },
  {
   "cell_type": "markdown",
   "metadata": {},
   "source": [
    "**N.B. This is a trick question. The correct answer is that these passwords are all given in plain text which should never ever happen so they are all invalid!**"
   ]
  },
  {
   "cell_type": "markdown",
   "metadata": {},
   "source": [
    "## Problem 6\n",
    "\n",
    "In this problem, people are asked to answer yes or no to a list of 26 questions (labeled 'a', 'b', ... 'z'). The responses are recorded by noting down the label of each question for which the response was \"yes\". For example, responses for three people might look like\n",
    "```\n",
    "afuy\n",
    "rz\n",
    "aypq\n",
    "```\n",
    "The first person has answered yes to questions `a`, `f`, `u` and `y`. The second has answered yes to `r` and `z` etc. We assume that everyone answered yes to at least one question.\n",
    "\n",
    "The responses of _groups_ of people will be considered with each group being separated by a single blank line. Extending our example from above...\n",
    "```\n",
    "afuy\n",
    "rz\n",
    "aypq\n",
    "\n",
    "anqvz\n",
    "\n",
    "bchklp\n",
    "bnrt\n",
    "```\n",
    "Represents 3 groups. The second group has one member and the third has two members.\n"
   ]
  },
  {
   "cell_type": "markdown",
   "metadata": {},
   "source": [
    "### Part 1\n",
    "\n",
    "In the first part of the problem we are asked to count the number of questions answered \"yes\" by each group. Duplicate answers are only counted once e.g. For the first group the answer should be 8 (`a` and `y` appear twice but we only count them once."
   ]
  },
  {
   "cell_type": "markdown",
   "metadata": {},
   "source": [
    "### Part 1 Answer\n",
    "\n",
    "Python collections are almost always going to be the foundation of your solution. In this case, sets do what we want to do (throw away duplicate entries).\n",
    "\n",
    " * Split entries into groups\n",
    " * Find answered questions without duplicates"
   ]
  },
  {
   "cell_type": "code",
   "execution_count": 4,
   "metadata": {},
   "outputs": [
    {
     "data": {
      "text/plain": [
       "['heqznia\\ncipkn\\ngvsitwynrxb',\n",
       " 'auz\\nzaeu\\nuaz\\nzau\\nzua',\n",
       " 'ctqaibd\\ntbqlzaywvd\\nbqdtcazls\\nqtrdvab\\nhpbtadq',\n",
       " 'e\\ne\\nje\\ne\\ne',\n",
       " 'ilzuqnjhrceay\\njakzylrnuqcih\\nuhyqijldrzwnac',\n",
       " 'lxtwyiuqerd\\nsfdmpjawvolkbzqnih\\nldtiewgq',\n",
       " 'absdepjhctyfzxnivom\\nfdvbjnsolpztgywmaihx\\ntkashzxmjbydivfnrop\\nptnsojahvxmbdzfiy',\n",
       " 'hd\\ndh\\nhd\\ndh',\n",
       " 'bup\\nktul',\n",
       " 'rjfzdhowqnystc\\nubfkxhagiqmvplw']"
      ]
     },
     "execution_count": 4,
     "metadata": {},
     "output_type": "execute_result"
    }
   ],
   "source": [
    "import re\n",
    "import requests\n",
    "\n",
    "try:\n",
    "    r = requests.get('https://m2pi.syzygy.ca/data/day_6.txt')\n",
    "    r.raise_for_status()\n",
    "except Exception as err:\n",
    "    print(f'Unable to retrieve passwords: {err}')\n",
    "\n",
    "group_answers = r.text.strip().split('\\n\\n')\n",
    "group_answers[:10]"
   ]
  },
  {
   "cell_type": "code",
   "execution_count": 5,
   "metadata": {},
   "outputs": [
    {
     "name": "stdout",
     "output_type": "stream",
     "text": [
      "6249 questions answered YES\n"
     ]
    }
   ],
   "source": [
    "total_yes = 0\n",
    "for group in group_answers:\n",
    "    total_yes += len(set(group.replace('\\n', '')))\n",
    "\n",
    "print(f\"{total_yes} questions answered YES\")\n",
    "    "
   ]
  },
  {
   "cell_type": "markdown",
   "metadata": {},
   "source": [
    "### Part 2\n",
    "\n",
    "In part 2 of this problem, we are told to count the total number of questions for which all participants in a group answered yes. For our example\n",
    "above...\n",
    "```\n",
    "afuy\n",
    "rz\n",
    "aypq\n",
    "\n",
    "anqvz\n",
    "\n",
    "bchklp\n",
    "bnrt\n",
    "```\n",
    "The total for the first group would be 0 (no letter appears in all three lines). The total for the second group would be 5 because the group size is 1 `a`, `n`, `q`, `v`, `z` all appear once. The total for the third group would be 1 since `b` is the only letter which appears on all lines."
   ]
  },
  {
   "cell_type": "markdown",
   "metadata": {},
   "source": [
    "### Part 2 Answer\n",
    "\n",
    "The collections module in the python standard library has lots of fantastic features. For this problem the `Counter` object behaves like the `set` from above, but keeps track of exactly how many of each object have been seen before."
   ]
  },
  {
   "cell_type": "code",
   "execution_count": 6,
   "metadata": {},
   "outputs": [
    {
     "name": "stdout",
     "output_type": "stream",
     "text": [
      "3103 questions where all group memebers answered YES\n"
     ]
    }
   ],
   "source": [
    "from collections import Counter\n",
    "\n",
    "all_yes = 0\n",
    "for answers in group_answers:\n",
    "    all_yes += sum([x == len(answers.strip().split('\\n')) for x in Counter(answers.replace('\\n','')).values()])\n",
    "    \n",
    "print(f\"{all_yes} questions where all group memebers answered YES\")"
   ]
  },
  {
   "cell_type": "markdown",
   "metadata": {},
   "source": [
    "## Problem 3: Skyscrapers\n",
    "\n",
    "See e.g.\n",
    "\n",
    " * https://www.chiark.greenend.org.uk/~sgtatham/puzzles/js/towers.html\n",
    " * https://www.puzzle-skyscrapers.com/\n",
    " \n",
    "Write a representation of the game in python. You can use any programming paradigm you like but you should offer a method or function to generate puzzles, one to check if they are valid and a way of solving a given puzzle.\n"
   ]
  },
  {
   "cell_type": "code",
   "execution_count": 344,
   "metadata": {},
   "outputs": [],
   "source": [
    "import numpy as np\n",
    "\n",
    "class SkyScraper():\n",
    "    \n",
    "    def __init__(self, n=4):\n",
    "        self.n = n\n",
    "        self.board = self.generateBoard()\n",
    "        self.calculateEdges()\n",
    "    \n",
    "    def generateBoard(self):\n",
    "        \"\"\"\n",
    "        Generate one valid latin square with arange and roll, e.g. for n=4\n",
    "        \n",
    "          1 2 3 4\n",
    "          4 1 2 3\n",
    "          3 4 1 2\n",
    "          2 3 4 1\n",
    "          \n",
    "        Now generate permutations of rows and columns.\n",
    "        \"\"\"\n",
    "        board = []\n",
    "        \n",
    "        a = np.arange(1, self.n + 1, dtype=np.int)\n",
    "        for row in range(self.n):\n",
    "            board.append(np.roll(a, row))\n",
    "\n",
    "        board = np.array(board)\n",
    "        \n",
    "        board = board[np.random.permutation(board.shape[0]), :]\n",
    "        board = board[:, np.random.permutation(board.shape[1])]\n",
    "        \n",
    "        return board\n",
    "\n",
    "    def validSkyScraper(self):\n",
    "        return (\n",
    "            np.all(self.board.sum(axis=0) == (self.n * (self.n + 1) / 2)) and\n",
    "            np.all(self.board.sum(axis=1) == (self.n * (self.n + 1) / 2)) and\n",
    "            np.unique(self.board, axis=0).shape == (self.n, self.n) and\n",
    "            np.unique(self.board, axis=1).shape == (self.n, self.n)\n",
    "        )\n",
    "                                \n",
    "        \n",
    "    def calculateEdges(self):\n",
    "        \"\"\"\n",
    "        Given a valid board, calculate the number of towers visible from\n",
    "        each point on the edge of the board\n",
    "        \"\"\"\n",
    "        self.north = np.zeros(self.n, dtype=np.int)\n",
    "        self.south = np.zeros(self.n, dtype=np.int)\n",
    "        self.east  = np.zeros(self.n, dtype=np.int)\n",
    "        self.west  = np.zeros(self.n, dtype=np.int)\n",
    "\n",
    "        \n",
    "        for idx in range(self.n):\n",
    "            self.west[idx] = len(set(np.maximum.accumulate(self.board[idx, :])))\n",
    "            self.east[idx] = len(set(np.maximum.accumulate(self.board[idx, ::-1])))\n",
    "            self.north[idx]  = len(set(np.maximum.accumulate(self.board[:, idx])))\n",
    "            self.south[idx]  = len(set(np.maximum.accumulate(self.board[::-1, idx])))\n",
    "        \n",
    "    \n",
    "\n",
    "    def __repr__(self):\n",
    "        \"\"\"\n",
    "        Display a skyscraper board\n",
    "        \n",
    "              |a a a a|\n",
    "           ---|-------|---\n",
    "           a  |x x x x| a\n",
    "           a  |x x x x| a\n",
    "           a  |x x x x| a\n",
    "           a  |x x x x| a\n",
    "           ---|-------|---\n",
    "              |a a a a|\n",
    "        \n",
    "        Spacing is hard coded, will break layout after 9x9\n",
    "        \"\"\"\n",
    "        s  = \"   |\"\n",
    "        s += \" \".join([f\"{buildingsVisible}\" for buildingsVisible in self.north])\n",
    "        s += \"|   \\n\"\n",
    "        s += \"---|\" + '-' * (2 * self.n - 1) + \"|---\\n\"\n",
    "        for row in range(self.n):\n",
    "            s += f\" {self.west[row]} |\"\n",
    "            s += \" \".join([f\"{x}\" for x in self.board[row,:]])\n",
    "            s += f\"| {self.east[row]} \\n\"\n",
    "        s += \"---|\" + '-' * (2 * self.n - 1) + \"|---\\n\"\n",
    "        s += \"   |\"\n",
    "        s += \" \".join([f\"{buildingsVisible}\" for buildingsVisible in self.south])\n",
    "        s += \"|   \\n\"\n",
    "        return s"
   ]
  },
  {
   "cell_type": "code",
   "execution_count": 350,
   "metadata": {},
   "outputs": [],
   "source": [
    "s = SkyScraper(8)"
   ]
  },
  {
   "cell_type": "code",
   "execution_count": 351,
   "metadata": {},
   "outputs": [
    {
     "data": {
      "text/plain": [
       "   |4 3 3 2 2 2 1 2|   \n",
       "---|---------------|---\n",
       " 5 |2 4 3 6 7 5 8 1| 2 \n",
       " 6 |1 3 2 5 6 4 7 8| 1 \n",
       " 3 |5 7 6 1 2 8 3 4| 2 \n",
       " 2 |7 1 8 3 4 2 5 6| 2 \n",
       " 3 |4 6 5 8 1 7 2 3| 3 \n",
       " 1 |8 2 1 4 5 3 6 7| 2 \n",
       " 4 |3 5 4 7 8 6 1 2| 3 \n",
       " 2 |6 8 7 2 3 1 4 5| 3 \n",
       "---|---------------|---\n",
       "   |2 1 2 3 2 4 4 3|   "
      ]
     },
     "execution_count": 351,
     "metadata": {},
     "output_type": "execute_result"
    }
   ],
   "source": [
    "s"
   ]
  },
  {
   "cell_type": "code",
   "execution_count": 348,
   "metadata": {},
   "outputs": [
    {
     "data": {
      "text/plain": [
       "7"
      ]
     },
     "execution_count": 348,
     "metadata": {},
     "output_type": "execute_result"
    }
   ],
   "source": [
    "3+4"
   ]
  },
  {
   "cell_type": "markdown",
   "metadata": {},
   "source": [
    "## Jacobson and Matthews\n",
    "\n",
    "Turns out the generate method above only explores a tiny portion of the available space of latin squares. Fortunately some kind people at the NSA have described an algorithm for (approximately) uniform random sampling from the full space of Latin Squares via MCMC. Let's do it!\n",
    "\n",
    "The first insight J&M give is that each $n\\times n$ latin square is equivalent to an $n\\times n\\times n$ incidence matrix. Great, but what the hell is an incidence matrix? In this context it is a 3D marix where each row (in any dimension) contains exactly $n - 1$ zeros and exactly 1 one. To see the correspondence between this and a latin square, think of labeling each entry of the incidence matrix as $M_{i, j, k}$; If $M_{i, j, k} = 1$, then we write $k$ into the $(i, j)$ position of our latin square. This gives us a 1 to 1 correspondance between latin squares and incidence matrices.\n",
    "\n",
    "More mathematically, we represent a latin square as a function $M$ from the set of ordered triples from $\\{1, 2, \\ldots, n\\}$ to $\\{0, 1\\}$, such that for any $i, j \\in \\{ 1, 2, \\ldots, n\\}$ we have $\\sum_{z}M_{i, j, k} = 1$.\n",
    "\n",
    "Their next big insight is to define a class of \"almost\" incidence matrices. Given the function definition above, this means that the rows (in all 3 dimensions) which include the $-1$ must include two other $1$ entries so that the sum of all of the values in the row is 1.\n",
    "\n",
    "These matrices obviously _don't_ correspond to latin squares, but J&M show that together with actual/valid incidence matrices they give us enough freedom tp construct an MCMC which will explore the space of valid incidence matrices (and so latin squares) _with uniform sampling_. To get a random latin square, uniformly distributed in the space of all latin squares, all you need to do is apply these steps and then check that you've landed on a valid incidence matrix. If you haven't you can keep going and check again (there are ~n steps between valid matrices), and these are relatively inexpensive operation.\n",
    "\n",
    "The key to implementing the MCMC is the transition step. Here is how it works\n",
    "\n",
    "\n",
    "1. If $M$ is a valid incidence matrix, choose $i, j, k$ with $M_{i,j,k}=0$; if $M$ is\n",
    "is an almost incidence matrix, start with the unique $i, j, k$ such that $M_{i, j, k} = -1$ \t\n",
    "\n",
    "\n",
    "2. Let $i', j', k'$ be points such that $M_{i', j, k} = M_{i, j', k} = M_{i, j, k'} = 1$. If $M$ is valid, this choice is unique, if it is almost, there are two pssoble choices for each index.\n",
    "\n",
    "3. Now increase the value of $M_{i, j, k}$, $M_{i, j', k'}$, $M_{i', j, k'}$ and $M_{i', j', k}$ by 1, and decrease it by 1 $M_{i', j, k}$. $M_{i, j', k}$, $M_{i, j, k'}$ and $M_{i', j', k'}$.\n",
    "\n",
    "The result will be another actual or almost incidence matrix depending on whether $M_{i', j', k'} = 1$ or $M_{i', j', k'} = 0$.\n",
    "\n",
    "\n",
    "---\n",
    "\n",
    "If the incidence matrix is valid then select $i, j, k$ of any $0$ entry in the matrix. In the \"almost\" incidence case, select the $i, j, k$, of the $-1$ entry. Next choose $i', j', k'$ such that $M_{i', j, k} =  M_{i, j', k} = M_{i, j, k'} = 1$. In the valid case this choice is unique, in the almost case there will be two choices in each dimension, we randomly select between these cases.\n",
    "\n",
    "Now $i, j, k$ and $i', j', k'$ define a cube within our incidence matrix, the edges of the cube are $\\{i, i'\\}\\times \\{j, j'\\}\\times \\{k, k'\\}$. $M_{i', j, k} = M_{i, j', k} = M_{i, j, k'} = 1$ by construction and from the incidence condition $M_{i', j', k} = M_{i', j, k'} = M_{i, j', k'} = 0$. If the matrix is valid the $M_{i, j, k} = 0$, if it is almost then $M_{i, j, k} = 0$. Finally, $M_{i', j', k'} = 0$ or $M_{i', j', k'} = 1$.\n",
    "\n",
    "The transition step is to add 1 to the element $M_{i, j, k}$, subtract one from the element $M_{i′,j′,k′}$, and toggle the remaining entries. If $M_{i′,j′,k′}$ was 1 this will result in a perfect incidence matrix, if not, it will give an almost incidence matrix."
   ]
  },
  {
   "cell_type": "code",
   "execution_count": 564,
   "metadata": {},
   "outputs": [
    {
     "data": {
      "text/plain": [
       "array([[ 5, 14, 13,  9, 12,  1,  8,  4, 11,  7, 10,  6,  3,  2, 15, 16],\n",
       "       [10,  3,  2, 14,  1,  6, 13,  9, 16, 12, 15, 11,  8,  7,  4,  5],\n",
       "       [14,  7,  6,  2,  5, 10,  1, 13,  4, 16,  3, 15, 12, 11,  8,  9],\n",
       "       [ 9,  2,  1, 13, 16,  5, 12,  8, 15, 11, 14, 10,  7,  6,  3,  4],\n",
       "       [ 2, 11, 10,  6,  9, 14,  5,  1,  8,  4,  7,  3, 16, 15, 12, 13],\n",
       "       [ 1, 10,  9,  5,  8, 13,  4, 16,  7,  3,  6,  2, 15, 14, 11, 12],\n",
       "       [15,  8,  7,  3,  6, 11,  2, 14,  5,  1,  4, 16, 13, 12,  9, 10],\n",
       "       [ 4, 13, 12,  8, 11, 16,  7,  3, 10,  6,  9,  5,  2,  1, 14, 15],\n",
       "       [11,  4,  3, 15,  2,  7, 14, 10,  1, 13, 16, 12,  9,  8,  5,  6],\n",
       "       [ 8,  1, 16, 12, 15,  4, 11,  7, 14, 10, 13,  9,  6,  5,  2,  3],\n",
       "       [16,  9,  8,  4,  7, 12,  3, 15,  6,  2,  5,  1, 14, 13, 10, 11],\n",
       "       [ 7, 16, 15, 11, 14,  3, 10,  6, 13,  9, 12,  8,  5,  4,  1,  2],\n",
       "       [ 3, 12, 11,  7, 10, 15,  6,  2,  9,  5,  8,  4,  1, 16, 13, 14],\n",
       "       [12,  5,  4, 16,  3,  8, 15, 11,  2, 14,  1, 13, 10,  9,  6,  7],\n",
       "       [ 6, 15, 14, 10, 13,  2,  9,  5, 12,  8, 11,  7,  4,  3, 16,  1],\n",
       "       [13,  6,  5,  1,  4,  9, 16, 12,  3, 15,  2, 14, 11, 10,  7,  8]])"
      ]
     },
     "execution_count": 564,
     "metadata": {},
     "output_type": "execute_result"
    }
   ],
   "source": [
    "N = 16\n",
    "r = SkyScraper(N)\n",
    "t = r.board\n",
    "t"
   ]
  },
  {
   "cell_type": "markdown",
   "metadata": {},
   "source": [
    "With a bit of indexing magic we can turn an existing latin square into a valid incidence matrix"
   ]
  },
  {
   "cell_type": "code",
   "execution_count": 565,
   "metadata": {},
   "outputs": [],
   "source": [
    "xy = np.mgrid[0:N, 0:N]\n",
    "idx = np.array([xy[0], xy[1], r.board - 1])"
   ]
  },
  {
   "cell_type": "code",
   "execution_count": 566,
   "metadata": {},
   "outputs": [
    {
     "data": {
      "text/plain": [
       "array([[[0, 0, 0, ..., 0, 0, 0],\n",
       "        [0, 0, 0, ..., 0, 0, 0],\n",
       "        [0, 0, 0, ..., 0, 0, 0],\n",
       "        ...,\n",
       "        [0, 0, 0, ..., 0, 0, 0],\n",
       "        [0, 0, 0, ..., 0, 0, 1],\n",
       "        [0, 0, 0, ..., 0, 0, 0]],\n",
       "\n",
       "       [[0, 0, 0, ..., 1, 0, 0],\n",
       "        [0, 0, 1, ..., 0, 0, 0],\n",
       "        [0, 0, 0, ..., 0, 0, 0],\n",
       "        ...,\n",
       "        [0, 0, 0, ..., 0, 0, 0],\n",
       "        [0, 0, 0, ..., 0, 0, 0],\n",
       "        [0, 0, 0, ..., 0, 0, 0]],\n",
       "\n",
       "       [[0, 0, 0, ..., 0, 0, 0],\n",
       "        [0, 1, 0, ..., 0, 0, 0],\n",
       "        [0, 0, 0, ..., 0, 0, 0],\n",
       "        ...,\n",
       "        [0, 0, 0, ..., 0, 0, 0],\n",
       "        [0, 0, 0, ..., 1, 0, 0],\n",
       "        [0, 0, 0, ..., 0, 0, 0]],\n",
       "\n",
       "       ...,\n",
       "\n",
       "       [[0, 1, 0, ..., 0, 0, 0],\n",
       "        [0, 0, 0, ..., 0, 0, 0],\n",
       "        [1, 0, 0, ..., 0, 0, 0],\n",
       "        ...,\n",
       "        [0, 0, 0, ..., 0, 0, 0],\n",
       "        [0, 0, 1, ..., 0, 0, 0],\n",
       "        [0, 0, 0, ..., 0, 0, 0]],\n",
       "\n",
       "       [[0, 0, 0, ..., 0, 1, 0],\n",
       "        [0, 0, 0, ..., 0, 0, 0],\n",
       "        [0, 0, 0, ..., 0, 0, 0],\n",
       "        ...,\n",
       "        [0, 0, 0, ..., 0, 0, 0],\n",
       "        [0, 1, 0, ..., 0, 0, 0],\n",
       "        [0, 0, 0, ..., 0, 0, 0]],\n",
       "\n",
       "       [[0, 0, 0, ..., 0, 0, 1],\n",
       "        [0, 0, 0, ..., 0, 0, 0],\n",
       "        [0, 0, 0, ..., 0, 0, 0],\n",
       "        ...,\n",
       "        [0, 0, 0, ..., 0, 0, 0],\n",
       "        [0, 0, 0, ..., 0, 1, 0],\n",
       "        [0, 0, 0, ..., 0, 0, 0]]])"
      ]
     },
     "execution_count": 566,
     "metadata": {},
     "output_type": "execute_result"
    }
   ],
   "source": [
    "v = np.zeros((N, N, N), dtype=np.int)\n",
    "\n",
    "v[idx[2], idx[0], idx[1]] = 1\n",
    "v"
   ]
  },
  {
   "cell_type": "code",
   "execution_count": 567,
   "metadata": {},
   "outputs": [],
   "source": [
    "i, j, k = np.unravel_index(np.argmin(v, axis=None), v.shape)"
   ]
  },
  {
   "cell_type": "code",
   "execution_count": 568,
   "metadata": {},
   "outputs": [],
   "source": [
    "def validIncidenceMatrix(v):\n",
    "    return (\n",
    "        (len(v.shape) == 3) and \n",
    "        (v.shape[0] == v.shape[1] == v.shape[2]) and\n",
    "        np.all((v.sum(axis=0) == np.ones_like(v))) and\n",
    "        np.all((v.sum(axis=1) == np.ones_like(v))) and\n",
    "        np.all((v.sum(axis=2) == np.ones_like(v)))\n",
    "    )\n",
    "\n",
    "def properIncidenceMatrix(v):\n",
    "    u = np.unique(v)\n",
    "    return (\n",
    "        validIncidenceMatrix(v) and\n",
    "        (len(u) == 2) and\n",
    "        (min(u) == 0)\n",
    "    )\n"
   ]
  },
  {
   "cell_type": "code",
   "execution_count": 569,
   "metadata": {},
   "outputs": [],
   "source": [
    "def step(v):\n",
    "    if properIncidenceMatrix(v):\n",
    "        # Find indices of a zero\n",
    "        while True:\n",
    "            # Pick a random coordinate until we get a zero\n",
    "            i, j, k = np.random.randint(N, size=3)\n",
    "            if v[i, j, k] == 0: break\n",
    "    \n",
    "        i1 = np.argmax(v[:, j, k])\n",
    "        j1 = np.argmax(v[i, :, k])\n",
    "        k1 = np.argmax(v[i, j, :])\n",
    "    \n",
    "    else:\n",
    "        # find indices of the -1 entry\n",
    "        i, j, k = np.unravel_index(np.argmin(v, axis=None), v.shape)\n",
    "        \n",
    "        # Each line passing through (i, j, k) has two 1 values\n",
    "        # find them both and randomly select one.\n",
    "        i1 = np.random.choice(np.where(v[:, j, k] == 1)[0])\n",
    "        j1 = np.random.choice(np.where(v[i, :, k] == 1)[0])\n",
    "        k1 = np.random.choice(np.where(v[i, j, :] == 1)[0])\n",
    "        \n",
    "    v[i,  j,  k ] += 1\n",
    "    v[i1, j1, k ] += 1\n",
    "    v[i1, j,  k1] += 1\n",
    "    v[i,  j1, k1] += 1\n",
    "    \n",
    "    v[i1, j1, k1] -= 1\n",
    "    v[i1, j,  k ] -= 1\n",
    "    v[i,  j1, k ] -= 1\n",
    "    v[i,  j,  k1] -= 1\n",
    "\n"
   ]
  },
  {
   "cell_type": "code",
   "execution_count": 570,
   "metadata": {},
   "outputs": [],
   "source": [
    "def next(v):\n",
    "    iteration = 0\n",
    "    while iteration < N * N * N or not properIncidenceMatrix(v):\n",
    "        iteration += 1\n",
    "        step(v)\n"
   ]
  },
  {
   "cell_type": "code",
   "execution_count": 571,
   "metadata": {},
   "outputs": [
    {
     "data": {
      "text/plain": [
       "array([[[0, 0, 1, ..., 0, 0, 0],\n",
       "        [0, 0, 0, ..., 0, 0, 0],\n",
       "        [0, 1, 0, ..., 0, 0, 0],\n",
       "        ...,\n",
       "        [0, 0, 0, ..., 0, 1, 0],\n",
       "        [0, 0, 0, ..., 0, 0, 0],\n",
       "        [0, 0, 0, ..., 0, 0, 0]],\n",
       "\n",
       "       [[0, 0, 0, ..., 0, 0, 0],\n",
       "        [0, 0, 0, ..., 0, 1, 0],\n",
       "        [0, 0, 0, ..., 0, 0, 0],\n",
       "        ...,\n",
       "        [0, 0, 0, ..., 0, 0, 1],\n",
       "        [0, 0, 0, ..., 0, 0, 0],\n",
       "        [0, 0, 0, ..., 0, 0, 0]],\n",
       "\n",
       "       [[0, 0, 0, ..., 0, 0, 1],\n",
       "        [0, 0, 0, ..., 0, 0, 0],\n",
       "        [0, 0, 0, ..., 0, 0, 0],\n",
       "        ...,\n",
       "        [0, 0, 0, ..., 0, 0, 0],\n",
       "        [1, 0, 0, ..., 0, 0, 0],\n",
       "        [0, 0, 0, ..., 0, 0, 0]],\n",
       "\n",
       "       ...,\n",
       "\n",
       "       [[0, 0, 0, ..., 0, 0, 0],\n",
       "        [0, 0, 0, ..., 0, 0, 0],\n",
       "        [0, 0, 0, ..., 0, 0, 0],\n",
       "        ...,\n",
       "        [1, 0, 0, ..., 0, 0, 0],\n",
       "        [0, 0, 1, ..., 0, 0, 0],\n",
       "        [0, 0, 0, ..., 0, 0, 0]],\n",
       "\n",
       "       [[1, 0, 0, ..., 0, 0, 0],\n",
       "        [0, 0, 0, ..., 0, 0, 0],\n",
       "        [0, 0, 0, ..., 0, 0, 1],\n",
       "        ...,\n",
       "        [0, 0, 0, ..., 0, 0, 0],\n",
       "        [0, 0, 0, ..., 0, 0, 0],\n",
       "        [0, 0, 0, ..., 0, 0, 0]],\n",
       "\n",
       "       [[0, 0, 0, ..., 0, 0, 0],\n",
       "        [0, 0, 0, ..., 0, 0, 0],\n",
       "        [0, 0, 0, ..., 1, 0, 0],\n",
       "        ...,\n",
       "        [0, 0, 0, ..., 0, 0, 0],\n",
       "        [0, 0, 0, ..., 0, 0, 1],\n",
       "        [0, 0, 0, ..., 0, 0, 0]]])"
      ]
     },
     "execution_count": 571,
     "metadata": {},
     "output_type": "execute_result"
    }
   ],
   "source": [
    "next(v)\n",
    "v"
   ]
  },
  {
   "cell_type": "code",
   "execution_count": null,
   "metadata": {},
   "outputs": [],
   "source": []
  }
 ],
 "metadata": {
  "kernelspec": {
   "display_name": "Python 3 (ipykernel)",
   "language": "python",
   "name": "python3"
  },
  "language_info": {
   "codemirror_mode": {
    "name": "ipython",
    "version": 3
   },
   "file_extension": ".py",
   "mimetype": "text/x-python",
   "name": "python",
   "nbconvert_exporter": "python",
   "pygments_lexer": "ipython3",
   "version": "3.9.12"
  }
 },
 "nbformat": 4,
 "nbformat_minor": 4
}
