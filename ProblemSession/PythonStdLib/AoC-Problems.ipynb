{
 "cells": [
  {
   "cell_type": "markdown",
   "metadata": {},
   "source": [
    "# Advent of Code Problems\n",
    "\n",
    "### Key Concepts & Packages\n",
    "\n",
    "The following packages and ideas are part of the python language itself. They are always available and understanding them will make your life much easier. Individually, they help solve simple problems in the most efficient way, allowing you to combine them to solve more complex problems\n",
    "\n",
    "  * [Truthy and Falsy values](https://www.freecodecamp.org/news/truthy-and-falsy-values-in-python/)\n",
    "  * [Indexing](https://towardsdatascience.com/the-basics-of-indexing-and-slicing-python-lists-2d12c90a94cf) and [numpy indexing](https://numpy.org/doc/stable/reference/arrays.indexing.html)\n",
    "  * Regular expressions [re](https://docs.python.org/3/library/re.html)\n",
    "  * Hashes and [Collections](https://docs.python.org/3/library/collections.html)\n",
    "\n",
    "\n",
    "These modules aren't part of the core python language, but they're well written and very widely used.\n",
    "\n",
    "* [Requests](https://docs.python-requests.org/en/master/) HTTP for humans\n",
    "* [Pandas](https://pandas.pydata.org/)\n",
    "* [Numpy](https://numpy.org/)\n",
    "\n",
    "There are **lots** of other python modules available as well. In general you should look for an existing python module before writing something from scratch, it'll save you a lot of work and let you focus on the interesting parts of your problem. [PyPI](https://pypi.org/) is the canonical source for many packages and integrates with the `pip` package manager. When you are looking at a new package, some of the things to consider are\n",
    "\n",
    "  1. Does it do what you need? Does it do it well?\n",
    "  1. Does it have a good support community and active development? Often the associated GitHub issue queue can help you judge this\n",
    "  \n",
    "  \n"
   ]
  },
  {
   "cell_type": "markdown",
   "metadata": {},
   "source": [
    "## Problem 1: Password Checking\n",
    "\n",
    "### Part 1\n",
    "\n",
    " * N.B. This problem is a tweak of [Advent of Code 2020 problem 2](https://adventofcode.com/2020/day/2)\n",
    "You've been given the password file for a group of users and you've been asked to validate the entries. Here are some sample entries\n",
    "\n",
    "```\n",
    "1-9 a: asjuaycbnwo\n",
    "3-7 c: qohnfbyvdvxb\n",
    "5-7 j: abnkjahajjay\n",
    "3-6 p: papvmnnapa\n",
    "1-5 n: nannanuuanyn\n",
    "```\n",
    "\n",
    "The second field with the colon represents a character that we expect to find in the password (the 3rd field). The first field represents the minimum and maximum number of occurrences of that character which are needed to satisfy our policy. For example, the first line says that the password is `asjuaycbnwo` and that we expect to find at least one to at most nine occurrences of the latter `a` in that password. Given those rules we have\n",
    "\n",
    "```\n",
    "1-9 a: asjuaycbnwo   # VALID   2 occurences of \"a\" (1 <= 2 <= 9)\n",
    "3-7 c: qohnfbyvdvxb  # INVALID 0 occurences of \"c\" (0 < 3)\n",
    "5-7 j: abnkhajajjay  # INVALID 3 occurences of \"j\" (3 < 5)\n",
    "3-6 p: papvmnnapa    # VALID   3 occurences of \"p\" (3<= 3 <= 6)\n",
    "1-5 n: nannnnuuanyn  # INVALID 7 occurences of \"n\" (7 > 5)\n",
    "```\n",
    "\n",
    "You are asked to calculate the total number of valid passwords in the file."
   ]
  },
  {
   "cell_type": "code",
   "execution_count": 1,
   "metadata": {},
   "outputs": [],
   "source": [
    "data_url = \"https://m2pi.syzygy.ca/data/day_2.txt\""
   ]
  },
  {
   "cell_type": "markdown",
   "metadata": {},
   "source": [
    "### Part 2\n",
    "\n",
    "Part two of this problem says that the schema was misinterpreted in part 1. Actually, the first token on each line should be interpretated as positions in the password string (indexed from 1!) and that the given character should occur **exactly** once in those positions. Recycling our examples from above\n",
    "\n",
    "```\n",
    "1-9 a: asjuaycbnwo  # VALID \"a\" occurs in position 1\n",
    "3-7 c: qohnfbyvdvxb # INVALID \"c\" does not occur in position 3 or 7\n",
    "5-7 j: abnkhajajjay # VALID \"j\" occurs in position 5\n",
    "3-6 p: papvmnnapa   # VALID \"p\" occurs in position 3\n",
    "1-5 n: nannnnuuanyn # INVALID \"n\" occurs in position 1 and position 5\n",
    "```"
   ]
  },
  {
   "cell_type": "markdown",
   "metadata": {},
   "source": [
    "**N.B. This is a trick question. The correct answer is that these passwords are all given in plain text which should never ever happen so they are all invalid!**"
   ]
  },
  {
   "cell_type": "markdown",
   "metadata": {},
   "source": [
    "## Problem 2\n",
    "\n",
    "In this problem, people are asked to answer yes or no to a list of 26 questions (labeled 'a', 'b', ... 'z'). The responses are recorded by noting down the label of each question for which the response was \"yes\". For example, responses for three people might look like\n",
    "```\n",
    "afuy\n",
    "rz\n",
    "aypq\n",
    "```\n",
    "The first person has answered yes to questions `a`, `f`, `u` and `y`. The second has answered yes to `r` and `z` etc. We assume that everyone answered yes to at least one question.\n",
    "\n",
    "The responses of _groups_ of people will be considered with each group being separated by a single blank line. Extending our example from above...\n",
    "```\n",
    "afuy\n",
    "rz\n",
    "aypq\n",
    "\n",
    "anqvz\n",
    "\n",
    "bchklp\n",
    "bnrt\n",
    "```\n",
    "Represents 3 groups. The second group has one member and the third has two members.\n"
   ]
  },
  {
   "cell_type": "code",
   "execution_count": 2,
   "metadata": {},
   "outputs": [],
   "source": [
    "data_url = \"https://m2pi.syzygy.ca/data/day_6.txt\""
   ]
  },
  {
   "cell_type": "markdown",
   "metadata": {},
   "source": [
    "### Part 1\n",
    "\n",
    "In the first part of the problem we are asked to count the number of questions answered \"yes\" by each group. Duplicate answers are only counted once e.g. For the first group the answer should be 8 (`a` and `y` appear twice but we only count them once."
   ]
  },
  {
   "cell_type": "markdown",
   "metadata": {},
   "source": [
    "### Part 1 Answer\n",
    "\n",
    "Python collections are almost always going to be the foundation of your solution. In this case, sets do what we want to do (throw away duplicate entries).\n",
    "\n",
    " * Split entries into groups\n",
    " * Find answered questions without duplicates"
   ]
  },
  {
   "cell_type": "markdown",
   "metadata": {},
   "source": [
    "### Part 2\n",
    "\n",
    "In part 2 of this problem, we are told to count the total number of questions for which all participants in a group answered yes. For our example\n",
    "above...\n",
    "```\n",
    "afuy\n",
    "rz\n",
    "aypq\n",
    "\n",
    "anqvz\n",
    "\n",
    "bchklp\n",
    "bnrt\n",
    "```\n",
    "The total for the first group would be 0 (no letter appears in all three lines). The total for the second group would be 5 because the group size is 1 `a`, `n`, `q`, `v`, `z` all appear once. The total for the third group would be 1 since `b` is the only letter which appears on all lines."
   ]
  },
  {
   "cell_type": "markdown",
   "metadata": {},
   "source": [
    "### Part 2 Answer\n",
    "\n",
    "The collections module in the python standard library has lots of fantastic features. For this problem the `Counter` object behaves like the `set` from above, but keeps track of exactly how many of each object have been seen before."
   ]
  }
 ],
 "metadata": {
  "kernelspec": {
   "display_name": "Python 3 (ipykernel)",
   "language": "python",
   "name": "python3"
  },
  "language_info": {
   "codemirror_mode": {
    "name": "ipython",
    "version": 3
   },
   "file_extension": ".py",
   "mimetype": "text/x-python",
   "name": "python",
   "nbconvert_exporter": "python",
   "pygments_lexer": "ipython3",
   "version": "3.10.5"
  }
 },
 "nbformat": 4,
 "nbformat_minor": 4
}
